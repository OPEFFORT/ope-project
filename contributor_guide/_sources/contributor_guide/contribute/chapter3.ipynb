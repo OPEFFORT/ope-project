{
 "cells": [
  {
   "cell_type": "markdown",
   "id": "c20bffe2-d852-4b42-9c80-e43dbe8ebc45",
   "metadata": {},
   "source": [
    "# CI/CD Testing Workflow"
   ]
  },
  {
   "cell_type": "markdown",
   "id": "5942212f-37f3-418e-b3cb-d852552e32cc",
   "metadata": {},
   "source": [
    "The base ope image is currently located within the `OPE-Testing` repo in the `container-base-ope` repo. Within this repository there is a `Master_Container_Test.yaml` file in the .github/workflows directory. This yaml file contains all the appropriate image, build, gdb and UI tests compressed into one for the OPE repository base container image. Whenever there is code pushed to this branch the GitHub workflow will activate in order to test the container to make sure it is still fully functional.\n",
    "\n",
    "There are currently 11 stages to the workflow listed below:\n",
    "\n",
    "## Setup-and-Build\n",
    "\n",
    "Responsible for building the image, pushing the beta image to the registry of quay.io, and recording the time and size of the build. All other jobs wait for this to complete before beginning.\n",
    "\n",
    "\n",
    "## Health-Check\n",
    "\n",
    "Test pulls the beta image and runs it, after some time executes  a health status check to veridy if the container is up and running.\n",
    "\n",
    "\n",
    "## Image-Version-Check\n",
    "\n",
    "Test pulls the beta image and runs it, then queries the image json to ensure the proper image and tag are used.\n",
    "\n",
    "\n",
    "## JupyterNB-Test\n",
    "\n",
    "Test pulls the beta image and runs it. Starts up jupyter lab server in the container and then runs test.ipynb which verfies import of necessary packages. If error does not occur when executing notebook, behaving as expected.\n",
    "\n",
    "\n",
    "## Package-Version-Test\n",
    "\n",
    "Test pulls the beta image and runs it. Checks what version of packages are installed within the running container and then passes that to version_check.py to compare the current list with a stable list (versions.txt) and finds any inconsistencies.\n",
    "\n",
    "\n",
    "## Checksum\n",
    "\n",
    "Checksum verifies that the checksum of the container image is correct.\n",
    "\n",
    "\n",
    "## Size-and-Time-Display\n",
    "\n",
    "Test pulls the beta image and runs it (needed for size)This test uses the build time recorded in the build to display this time and also queries the image to find its size and display that. \n",
    "\n",
    "\n",
    "## UI-Test\n",
    "\n",
    "This test infrastructure uses selenium to run functionality and visual checks on jupyter notebook running in the image. It pulls the beta image and runs it. Then, the url is passed to rise_test.py which is then used to do the functionality testing with selenium and record screenshots for the visual / formatting veriication test. After this, the screenshot difference test is triggered which runs screenshots_diff.py for final format checking.\n",
    "\n",
    "\n",
    "## GDB-Test\n",
    "\n",
    "Test pulls the beta image and runs it. It then runs a bash sript calling gdb 100 times to check functionality. If gdb error will throw here. Lastly, rights the output of the script to text file that then verifies the corrrect number of instructions have been executed.\n",
    "\n",
    "\n",
    "## Approval\n",
    "\n",
    "Sends approval authorization request to approved authorization, test then waits for authorization has been granted to proceed. \n",
    "\n",
    "\n",
    "## Publish\n",
    "\n",
    "This test publishes the latest stable base image to the OPE quay.io repo\n",
    "\n",
    "\n",
    "```{note}\n",
    "In order to push / pull to the appropriate quay.io repo you must update registry_user and registry_password to the correct corresponding variables\n",
    "```"
   ]
  },
  {
   "cell_type": "code",
   "execution_count": null,
   "id": "7be097d8-e9a2-4491-9e9e-ccf456698754",
   "metadata": {},
   "outputs": [],
   "source": []
  }
 ],
 "metadata": {
  "kernelspec": {
   "display_name": "Python 3 (ipykernel)",
   "language": "python",
   "name": "python3"
  },
  "language_info": {
   "codemirror_mode": {
    "name": "ipython",
    "version": 3
   },
   "file_extension": ".py",
   "mimetype": "text/x-python",
   "name": "python",
   "nbconvert_exporter": "python",
   "pygments_lexer": "ipython3",
   "version": "3.10.5"
  }
 },
 "nbformat": 4,
 "nbformat_minor": 5
}
