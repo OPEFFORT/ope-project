{
 "cells": [
  {
   "cell_type": "markdown",
   "id": "c20bffe2-d852-4b42-9c80-e43dbe8ebc45",
   "metadata": {},
   "source": [
    "# Publishing Book "
   ]
  },
  {
   "cell_type": "markdown",
   "id": "5942212f-37f3-418e-b3cb-d852552e32cc",
   "metadata": {},
   "source": [
    "OPE utilizes [GitHub Pages](https://pages.github.com/) to allow you to easily deploy your website for free.\n",
    "\n",
    "First, make sure in the book_config.yml files that the URL, path to book, and branch are all correct. An example for this textbook is:\n",
    "\n",
    "\n",
    "```\n",
    "repository:\n",
    "  url: https://github.com/IsaiahStapleton/ope-docubook\n",
    "  path_to_book: content\n",
    "  branch: main\n",
    "```\n",
    "\n",
    "Run the following command in the same directory as the book in order to publish the book:\n",
    "\n",
    "```shell\n",
    "\n",
    "make pub\n",
    "\n",
    "```\n",
    "\n"
   ]
  },
  {
   "cell_type": "markdown",
   "id": "4c6f391a",
   "metadata": {},
   "source": [
    "After this has been done, there will be a new branch titled 'gh-pages' within your repository. Go to settings -> pages and make sure the branch you are deploying GitHub pages from is the gh-pages branch. At the top of the page it will give you the URL of where the site is live. If you go to that link you may see a 404 error, that is because at the end of the URL you must add the name of the book, for example /user_guide for this project."
   ]
  },
  {
   "cell_type": "markdown",
   "id": "4237460e",
   "metadata": {},
   "source": [
    "<center>\n",
    "<img src=\"../images/ghpages.png\" width=1200px> \n",
    "</center>"
   ]
  }
 ],
 "metadata": {
  "kernelspec": {
   "display_name": "Python 3 (ipykernel)",
   "language": "python",
   "name": "python3"
  },
  "language_info": {
   "codemirror_mode": {
    "name": "ipython",
    "version": 3
   },
   "file_extension": ".py",
   "mimetype": "text/x-python",
   "name": "python",
   "nbconvert_exporter": "python",
   "pygments_lexer": "ipython3",
   "version": "3.10.5"
  }
 },
 "nbformat": 4,
 "nbformat_minor": 5
}
