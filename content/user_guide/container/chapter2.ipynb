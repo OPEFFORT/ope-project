{
 "cells": [
  {
   "cell_type": "markdown",
   "id": "c20bffe2-d852-4b42-9c80-e43dbe8ebc45",
   "metadata": {},
   "source": [
    "# Building and Publishing Image"
   ]
  },
  {
   "cell_type": "markdown",
   "id": "5942212f-37f3-418e-b3cb-d852552e32cc",
   "metadata": {},
   "source": [
    "We utilize the make tool to efficiently build, run, tag and publish the container images. You can simply run the command 'make' followed by one of these commands within the directory that has the name of the image you are trying to run (ex. containers/default):\n",
    "\n",
    "- **build** - builds the custom container image\n",
    "- **push** - append timestamp to current image and push to private registry mentioned in private_registry:private_user files under base. \n",
    "- **publish** - tag current image as ope_book_registry/ope_book_user/ope_book files under base directory along with a timestamp and push it like below.\n",
    "- **pull** - pull the most recent public image \n",
    "- **pull-priv** - pulls the most recent private image \n",
    "- **root** - executes the private image as root user like below. \n",
    "- **user** - executes the private image as the default user \n",
    "- **run** - starts published version with jupyter lab interface "
   ]
  }
 ],
 "metadata": {
  "kernelspec": {
   "display_name": "Python 3 (ipykernel)",
   "language": "python",
   "name": "python3"
  },
  "language_info": {
   "codemirror_mode": {
    "name": "ipython",
    "version": 3
   },
   "file_extension": ".py",
   "mimetype": "text/x-python",
   "name": "python",
   "nbconvert_exporter": "python",
   "pygments_lexer": "ipython3",
   "version": "3.10.5"
  }
 },
 "nbformat": 4,
 "nbformat_minor": 5
}
