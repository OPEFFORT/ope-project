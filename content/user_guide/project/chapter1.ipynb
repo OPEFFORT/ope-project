{
 "cells": [
  {
   "cell_type": "markdown",
   "id": "c20bffe2-d852-4b42-9c80-e43dbe8ebc45",
   "metadata": {},
   "source": [
    "# How to Create a New Project"
   ]
  },
  {
   "cell_type": "markdown",
   "id": "5942212f-37f3-418e-b3cb-d852552e32cc",
   "metadata": {},
   "source": [
    "A project consists of a collection of OPE books and associated container images.\n",
    "\n",
    "Before you create a project, an empty repository for the project should already be created. \n",
    "\n",
    "Assuming that you are using github or gitlab we recommend you create a new organization for your project. If you will be publishing containers as part of your project we also recommend that you create an docker image registery organization.\n",
    "\n",
    "We also recommend that you create a new email address that will act as the central admin address for your project. Eg. ucsls.organization@gmail.com. You can then use this as the admin and identity for all online resources of your project.\n",
    "\n",
    "Once this is done, to create a project make sure you have properly installed the OPE CLI tool, then run the following command:\n",
    "\n",
    "```shell\n",
    "ope new_project <project name> [repo url]\n",
    "```\n",
    "\n",
    "If a repo url was not specified when the project was created, you can add a repo to a project by running the following command within the project directory:\n",
    "\n",
    "```shell\n",
    "ope repo_add <repository url>\n",
    "```\n",
    "\n",
    "Eg. ope repo_add git@github.com:myuser/opeproject.git\"\n",
    "\n",
    "This will add the repository to the current project in order to store and track all of the project content.\n",
    "\n",
    "This will create a new directory (with the name of the project) with 3 sub directories:\n",
    "\n",
    "- books: This directory contains the book(s) for the project\n",
    "- containers: This directory contains the container images \n",
    "- content: This directory contains the content associated with the book(s)\n"
   ]
  },
  {
   "cell_type": "code",
   "execution_count": null,
   "id": "7be097d8-e9a2-4491-9e9e-ccf456698754",
   "metadata": {},
   "outputs": [],
   "source": []
  }
 ],
 "metadata": {
  "kernelspec": {
   "display_name": "Python 3 (ipykernel)",
   "language": "python",
   "name": "python3"
  },
  "language_info": {
   "codemirror_mode": {
    "name": "ipython",
    "version": 3
   },
   "file_extension": ".py",
   "mimetype": "text/x-python",
   "name": "python",
   "nbconvert_exporter": "python",
   "pygments_lexer": "ipython3",
   "version": "3.10.5"
  }
 },
 "nbformat": 4,
 "nbformat_minor": 5
}
