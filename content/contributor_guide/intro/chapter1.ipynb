{
 "cells": [
  {
   "cell_type": "markdown",
   "id": "c20bffe2-d852-4b42-9c80-e43dbe8ebc45",
   "metadata": {},
   "source": [
    "# What is the goal of OPE?"
   ]
  },
  {
   "cell_type": "markdown",
   "id": "5942212f-37f3-418e-b3cb-d852552e32cc",
   "metadata": {},
   "source": [
    "## Increasing Accessiblity in Computer Science Education\n",
    "\n",
    "The goal of OPE is that all materials, Textbook, Lecture presentations, and Lab manual are developed in open formats, hosted in public repositories, and deployed in a live and interactive manner and that the only thing require access to a web browser.\n",
    "\n",
    "## Creating Standard for Open Source Textbooks\n",
    "\n",
    "Creating a standard, streamlined way for educators to create Open Source Textbooks will have numerous benefits:\n",
    "\n",
    "1. It will increase accessibility with Computer Science education by allowing anyone, no matter their background, to easily setup and interact with an environment tailored towards educating individuals on Computer Science principles.\n",
    "\n",
    "2. It will allow educators to easily create textbook content that is specifically tailored to their course needs, in an simple, streamlined manner.\n",
    "\n",
    "## Creating Associated Container Images\n",
    "\n",
    "Creating container images that are directly associated with the textbook has numerous benefits:\n",
    "\n",
    "1. It requires that students/learners only need to have access to a web browser in order to interact with the class/book activities.\n",
    "\n",
    "2. The required environment is automatically setup for the students/learners, decreasing amount of time it takes to setup the environment. Students/learners do not need to setup the required environment manually by themselves.\n",
    "\n",
    "3. It creates a uniform environment for all students/learners. Every student/learner that builds the image has access to the exact same software and packages, with the same versions. This eliminates the opportunity for issues to arise with students/learners when working with different versions of software.\n"
   ]
  },
  {
   "cell_type": "code",
   "execution_count": null,
   "id": "7be097d8-e9a2-4491-9e9e-ccf456698754",
   "metadata": {},
   "outputs": [],
   "source": []
  }
 ],
 "metadata": {
  "kernelspec": {
   "display_name": "Python 3 (ipykernel)",
   "language": "python",
   "name": "python3"
  },
  "language_info": {
   "codemirror_mode": {
    "name": "ipython",
    "version": 3
   },
   "file_extension": ".py",
   "mimetype": "text/x-python",
   "name": "python",
   "nbconvert_exporter": "python",
   "pygments_lexer": "ipython3",
   "version": "3.10.5"
  }
 },
 "nbformat": 4,
 "nbformat_minor": 5
}
