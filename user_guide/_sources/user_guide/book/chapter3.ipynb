{
 "cells": [
  {
   "attachments": {},
   "cell_type": "markdown",
   "metadata": {},
   "source": [
    "# Creating Content "
   ]
  },
  {
   "attachments": {},
   "cell_type": "markdown",
   "metadata": {},
   "source": [
    "There are many different functions you can include in a book such as: displaying a series of slide images, displaying html table, and displaying interactive terminal media player, just to name a few.\n",
    "\n",
    "The OPE Test Book contains a list of these functions in the 01_special_displays, 02_slides_template, and 03_animations_examples within the content directory. You can access the test book [here](https://github.com/OPEFFORT/OPE-Testing/tree/test-book).\n",
    "\n",
    "Also take a look at some of the textbooks in section 10 to see what kind of content they are able to create using OPE.\n",
    "\n",
    "There is also an examples directory within the content directory of every new project that may be referenced. "
   ]
  },
  {
   "cell_type": "code",
   "execution_count": null,
   "metadata": {
    "vscode": {
     "languageId": "plaintext"
    }
   },
   "outputs": [],
   "source": []
  }
 ],
 "metadata": {
  "kernelspec": {
   "display_name": ".venv",
   "language": "python",
   "name": "python3"
  },
  "language_info": {
   "codemirror_mode": {
    "name": "ipython",
    "version": 3
   },
   "file_extension": ".py",
   "mimetype": "text/x-python",
   "name": "python",
   "nbconvert_exporter": "python",
   "pygments_lexer": "ipython3",
   "version": "3.11.4"
  },
  "orig_nbformat": 4
 },
 "nbformat": 4,
 "nbformat_minor": 2
}
