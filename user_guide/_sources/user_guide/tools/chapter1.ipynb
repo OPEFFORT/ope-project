{
 "cells": [
  {
   "cell_type": "markdown",
   "id": "c20bffe2-d852-4b42-9c80-e43dbe8ebc45",
   "metadata": {},
   "source": [
    "# OPE Command Line Tool "
   ]
  },
  {
   "cell_type": "markdown",
   "id": "5942212f-37f3-418e-b3cb-d852552e32cc",
   "metadata": {},
   "source": [
    "Using the official OPE tool, you can easily create, update, manage, and publish OPE projects from the command line. Follow the instructions to install this tool [here](https://github.com/OPEFFORT/tools).\n",
    "\n",
    "\n",
    "\n",
    "## Commands\n",
    "\n",
    "- **repo_add:** add a repository to a project                                             \n",
    "- **new_project:** create a new ope project from the ope templates                           \n",
    "- **new_book:** create a new publishable book for your content                            \n",
    "- **new_container:** add source for building a new container for your project                  \n",
    "- **update:** update and rebase changes from the OPE framework                          \n",
    "- **build:** build the book                                                   \n",
    "- **pub:** publish the book                                                     \n",
    "- **new_course:** creates a new ope project seeded with 3 books (textbook, lecture notes, and labmanual) and one container\n"
   ]
  }
 ],
 "metadata": {
  "kernelspec": {
   "display_name": "Python 3 (ipykernel)",
   "language": "python",
   "name": "python3"
  },
  "language_info": {
   "codemirror_mode": {
    "name": "ipython",
    "version": 3
   },
   "file_extension": ".py",
   "mimetype": "text/x-python",
   "name": "python",
   "nbconvert_exporter": "python",
   "pygments_lexer": "ipython3",
   "version": "3.10.5"
  }
 },
 "nbformat": 4,
 "nbformat_minor": 5
}
