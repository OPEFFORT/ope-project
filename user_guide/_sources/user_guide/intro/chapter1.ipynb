{
 "cells": [
  {
   "cell_type": "markdown",
   "id": "c20bffe2-d852-4b42-9c80-e43dbe8ebc45",
   "metadata": {},
   "source": [
    "# What is the Open Education (OPE) project?"
   ]
  },
  {
   "cell_type": "markdown",
   "id": "5942212f-37f3-418e-b3cb-d852552e32cc",
   "metadata": {},
   "source": [
    "The open source movement has reshaped the way we think about computing and how we create, curate and run software. We believe that the tools and processes of open source can be brought to bear on the development and distribution of educational material that are not only openly available but who’s construction, source material and use begin and remain in the public domain.\n",
    "\n",
    "In this project so far we have developed an exemplar set of materials for an introductory computers systems class that exploits Jupyter, Jupyter Books, OpenShift and the the Mass Open Cloud to develop and deliver a unique educational experience for learning about how computer systems work.\n",
    "\n",
    "OPE leverages modern open source technologies to create an open environment and platform in which educators can create, publish, and operationalize high-quality open source materials, while students require no more than access to a web browser to access them. To achieve this, we have built an open ownership model that starts with high-performance, open data centers providing the hardware resources. This model allows us to exploit Linux and build a rich environment of tools and services to support a novel approach to educational material.\n",
    "\n",
    "This project has received support from the Red Hat Collaboratory Research Incubation Award program in 2022 and 2023 for the project titled Foundations in Open Source Education."
   ]
  },
  {
   "cell_type": "code",
   "execution_count": null,
   "id": "7be097d8-e9a2-4491-9e9e-ccf456698754",
   "metadata": {},
   "outputs": [],
   "source": []
  }
 ],
 "metadata": {
  "kernelspec": {
   "display_name": "Python 3 (ipykernel)",
   "language": "python",
   "name": "python3"
  },
  "language_info": {
   "codemirror_mode": {
    "name": "ipython",
    "version": 3
   },
   "file_extension": ".py",
   "mimetype": "text/x-python",
   "name": "python",
   "nbconvert_exporter": "python",
   "pygments_lexer": "ipython3",
   "version": "3.10.5"
  }
 },
 "nbformat": 4,
 "nbformat_minor": 5
}
