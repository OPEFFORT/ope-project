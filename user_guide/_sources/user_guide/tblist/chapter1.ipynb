{
 "cells": [
  {
   "cell_type": "markdown",
   "id": "5942212f-37f3-418e-b3cb-d852552e32cc",
   "metadata": {},
   "source": [
    "# Textbooks\n",
    "\n",
    "The textbooks in the following list are OPE textbooks. Take a look at these for some inspiration.\n",
    "\n",
    "## UndertheCovers\n",
    "\n",
    "- [Repository](https://github.com/jappavoo/UndertheCovers)\n",
    "- [Textbook](https://jappavoo.github.io/UndertheCovers/textbook/intro_tb.html)\n",
    "- [Lecture Notes](https://jappavoo.github.io/UndertheCovers/lecturenotes/intro_ln.html)\n",
    "- [Lab Manual](https://jappavoo.github.io/UndertheCovers/labmanual/intro_lm.html) \n",
    "\n",
    "## OpenOS\n",
    "\n",
    "- [Repository](https://github.com/OpenOSOrg/openos)\n",
    "- [Textbook](https://okrieg.github.io/openos/textbook/intro/pref.html)\n",
    "\n"
   ]
  }
 ],
 "metadata": {
  "kernelspec": {
   "display_name": "Python 3 (ipykernel)",
   "language": "python",
   "name": "python3"
  },
  "language_info": {
   "codemirror_mode": {
    "name": "ipython",
    "version": 3
   },
   "file_extension": ".py",
   "mimetype": "text/x-python",
   "name": "python",
   "nbconvert_exporter": "python",
   "pygments_lexer": "ipython3",
   "version": "3.10.5"
  }
 },
 "nbformat": 4,
 "nbformat_minor": 5
}
